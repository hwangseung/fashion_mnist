{
  "nbformat": 4,
  "nbformat_minor": 0,
  "metadata": {
    "colab": {
      "name": "fashion_mnist.ipynb",
      "provenance": [],
      "collapsed_sections": []
    },
    "kernelspec": {
      "name": "python3",
      "display_name": "Python 3"
    },
    "accelerator": "GPU"
  },
  "cells": [
    {
      "cell_type": "code",
      "metadata": {
        "id": "DOAzumFMcvCK",
        "colab_type": "code",
        "colab": {}
      },
      "source": [
        "import tensorflow as tf\n",
        "from tensorflow.keras.layers import Conv2D\n",
        "from tensorflow.keras.layers import MaxPooling2D\n",
        "from tensorflow.keras.layers import Input\n",
        "from tensorflow.keras.layers import Dropout\n",
        "from tensorflow.keras.layers import Dense\n",
        "from tensorflow.keras.layers import Reshape\n",
        "from tensorflow.keras.layers import Flatten\n",
        "from tensorflow.keras.datasets import fashion_mnist\n",
        "from tensorflow.keras.models import Model\n",
        "from tensorflow.keras.optimizers import Adam\n",
        "import matplotlib.pyplot as plt\n",
        "import numpy as np"
      ],
      "execution_count": 0,
      "outputs": []
    },
    {
      "cell_type": "code",
      "metadata": {
        "id": "3ajt0We1dZIc",
        "colab_type": "code",
        "outputId": "c62bab7a-5b00-4bf4-a90e-e253ed0dfbdc",
        "colab": {
          "base_uri": "https://localhost:8080/",
          "height": 191
        }
      },
      "source": [
        "# Data preprocessing and loading\n",
        "(x_train, y_train), (x_test, y_test) = fashion_mnist.load_data()\n",
        "\n",
        "#normalizes the pixel data between 0 and 1\n",
        "x_train = x_train.astype('float32') / 255.0\n",
        "x_test = x_test.astype('float32') / 255.0\n",
        "\n",
        "#One-hot encoding the categories\n",
        "y_train = np.eye(10)[y_train.reshape(-1)]\n",
        "y_test = np.eye(10)[y_test.reshape(-1)]\n",
        "\n",
        "print('Length of training set', len(x_train))\n",
        "print('Length of testing set ', len(x_test))"
      ],
      "execution_count": 4,
      "outputs": [
        {
          "output_type": "stream",
          "text": [
            "Downloading data from https://storage.googleapis.com/tensorflow/tf-keras-datasets/train-labels-idx1-ubyte.gz\n",
            "32768/29515 [=================================] - 0s 0us/step\n",
            "Downloading data from https://storage.googleapis.com/tensorflow/tf-keras-datasets/train-images-idx3-ubyte.gz\n",
            "26427392/26421880 [==============================] - 0s 0us/step\n",
            "Downloading data from https://storage.googleapis.com/tensorflow/tf-keras-datasets/t10k-labels-idx1-ubyte.gz\n",
            "8192/5148 [===============================================] - 0s 0us/step\n",
            "Downloading data from https://storage.googleapis.com/tensorflow/tf-keras-datasets/t10k-images-idx3-ubyte.gz\n",
            "4423680/4422102 [==============================] - 0s 0us/step\n",
            "Length of training set 60000\n",
            "Length of testing set  10000\n"
          ],
          "name": "stdout"
        }
      ]
    },
    {
      "cell_type": "code",
      "metadata": {
        "id": "wBEjg_fwgJjE",
        "colab_type": "code",
        "outputId": "3dfc17ef-4ed3-4253-d030-a9cc3fd062ae",
        "colab": {
          "base_uri": "https://localhost:8080/",
          "height": 268
        }
      },
      "source": [
        "#plotting function taken from https://machinelearningmastery.com/how-to-load-and-visualize-standard-computer-vision-datasets-with-keras/\n",
        "for i in range(9):\n",
        "\tplt.subplot(330 + 1 + i)\n",
        "\tplt.imshow(x_train[i], cmap=plt.get_cmap('gray'))\n",
        "plt.show()"
      ],
      "execution_count": 0,
      "outputs": [
        {
          "output_type": "display_data",
          "data": {
            "image/png": "[encoded data removed]",
            "text/plain": [
              "<Figure size 432x288 with 9 Axes>"
            ]
          },
          "metadata": {
            "tags": []
          }
        }
      ]
    },
    {
      "cell_type": "code",
      "metadata": {
        "id": "piVQiKyTdbPS",
        "colab_type": "code",
        "outputId": "672d52ea-685a-4cf2-e7cf-0d08156f34e3",
        "colab": {
          "base_uri": "https://localhost:8080/",
          "height": 89
        }
      },
      "source": [
        "# Model construction\n",
        "#Model architecture taken from https://www.pyimagesearch.com/2019/02/11/fashion-mnist-with-keras-and-deep-learning/\n",
        "inputs = Input(shape=(28,28))\n",
        "\n",
        "x = Reshape((28,28,1))(inputs)\n",
        "\n",
        "x = Conv2D(filters = 32, kernel_size=(3,3), activation = 'relu', strides = (1,1), padding='same')(x)\n",
        "x = Conv2D(filters = 32, kernel_size=(3,3), activation = 'relu', strides = (1,1), padding='same')(x)\n",
        "x = MaxPooling2D(pool_size=(2,2))(x)\n",
        "x = Dropout(rate = .25)(x)\n",
        "\n",
        "x = Conv2D(filters = 64, kernel_size=(3,3), activation = 'relu', strides = (1,1), padding='same')(x)\n",
        "x = Conv2D(filters = 64, kernel_size=(3,3), activation = 'relu', strides = (1,1), padding='same')(x)\n",
        "x = MaxPooling2D(pool_size=(2,2))(x)\n",
        "x = Dropout(rate = .25)(x)\n",
        "\n",
        "x = Flatten()(x)\n",
        "x = Dense(units=512, activation = 'relu')(x)\n",
        "x = Dropout(rate = .5)(x)\n",
        "outputs = Dense(units = 10, activation = 'softmax')(x) #10 for num_classes in dataset"
      ],
      "execution_count": 0,
      "outputs": [
        {
          "output_type": "stream",
          "text": [
            "WARNING:tensorflow:From /usr/local/lib/python3.6/dist-packages/tensorflow_core/python/ops/resource_variable_ops.py:1630: calling BaseResourceVariable.__init__ (from tensorflow.python.ops.resource_variable_ops) with constraint is deprecated and will be removed in a future version.\n",
            "Instructions for updating:\n",
            "If using Keras pass *_constraint arguments to layers.\n"
          ],
          "name": "stdout"
        }
      ]
    },
    {
      "cell_type": "code",
      "metadata": {
        "id": "dXRsVa2ydcjS",
        "colab_type": "code",
        "outputId": "7ec22bbf-ffda-49bf-fd34-ece7f3847758",
        "colab": {
          "base_uri": "https://localhost:8080/",
          "height": 1000
        }
      },
      "source": [
        "#optimal learning rate hyperparameter search algo\n",
        "\n",
        "lr_model = Model(inputs = inputs, outputs = outputs)\n",
        "lr_schedule = tf.keras.callbacks.LearningRateScheduler(\n",
        "    lambda epoch: 1e-6 * 10**(epoch / 20))\n",
        "optimizer = tf.keras.optimizers.Adam(lr=1e-6)\n",
        "lr_model.compile(loss='categorical_crossentropy',\n",
        "              optimizer=optimizer,\n",
        "              metrics=[\"accuracy\"])\n",
        "loss_history = lr_model.fit(x_train, y_train, epochs=100, callbacks=[lr_schedule])"
      ],
      "execution_count": 0,
      "outputs": [
        {
          "output_type": "stream",
          "text": [
            "Train on 60000 samples\n",
            "Epoch 1/100\n",
            "60000/60000 [==============================] - 16s 261us/sample - loss: 2.2479 - acc: 0.2079\n",
            "Epoch 2/100\n",
            "60000/60000 [==============================] - 9s 143us/sample - loss: 1.9286 - acc: 0.3954\n",
            "Epoch 3/100\n",
            "60000/60000 [==============================] - 9s 145us/sample - loss: 1.4017 - acc: 0.5002\n",
            "Epoch 4/100\n",
            "60000/60000 [==============================] - 9s 145us/sample - loss: 1.1629 - acc: 0.5515\n",
            "Epoch 5/100\n",
            "60000/60000 [==============================] - 9s 143us/sample - loss: 1.0500 - acc: 0.5918\n",
            "Epoch 6/100\n",
            "60000/60000 [==============================] - 9s 143us/sample - loss: 0.9555 - acc: 0.6392\n",
            "Epoch 7/100\n",
            "60000/60000 [==============================] - 9s 143us/sample - loss: 0.8781 - acc: 0.6768\n",
            "Epoch 8/100\n",
            "60000/60000 [==============================] - 9s 144us/sample - loss: 0.8196 - acc: 0.6995\n",
            "Epoch 9/100\n",
            "60000/60000 [==============================] - 9s 143us/sample - loss: 0.7686 - acc: 0.7191\n",
            "Epoch 10/100\n",
            "60000/60000 [==============================] - 9s 147us/sample - loss: 0.7348 - acc: 0.7305\n",
            "Epoch 11/100\n",
            "60000/60000 [==============================] - 9s 144us/sample - loss: 0.6999 - acc: 0.7424\n",
            "Epoch 12/100\n",
            "60000/60000 [==============================] - 9s 144us/sample - loss: 0.6705 - acc: 0.7521\n",
            "Epoch 13/100\n",
            "60000/60000 [==============================] - 9s 143us/sample - loss: 0.6435 - acc: 0.7621\n",
            "Epoch 14/100\n",
            "60000/60000 [==============================] - 9s 145us/sample - loss: 0.6182 - acc: 0.7714\n",
            "Epoch 15/100\n",
            "60000/60000 [==============================] - 9s 146us/sample - loss: 0.5967 - acc: 0.7792\n",
            "Epoch 16/100\n",
            "60000/60000 [==============================] - 9s 144us/sample - loss: 0.5734 - acc: 0.7881\n",
            "Epoch 17/100\n",
            "60000/60000 [==============================] - 9s 145us/sample - loss: 0.5538 - acc: 0.7951\n",
            "Epoch 18/100\n",
            "60000/60000 [==============================] - 9s 144us/sample - loss: 0.5337 - acc: 0.8031\n",
            "Epoch 19/100\n",
            "60000/60000 [==============================] - 9s 143us/sample - loss: 0.5150 - acc: 0.8100\n",
            "Epoch 20/100\n",
            "60000/60000 [==============================] - 9s 143us/sample - loss: 0.4980 - acc: 0.8181\n",
            "Epoch 21/100\n",
            "60000/60000 [==============================] - 9s 145us/sample - loss: 0.4813 - acc: 0.8255\n",
            "Epoch 22/100\n",
            "60000/60000 [==============================] - 9s 144us/sample - loss: 0.4631 - acc: 0.8325\n",
            "Epoch 23/100\n",
            "60000/60000 [==============================] - 9s 144us/sample - loss: 0.4489 - acc: 0.8367\n",
            "Epoch 24/100\n",
            "60000/60000 [==============================] - 9s 145us/sample - loss: 0.4329 - acc: 0.8438\n",
            "Epoch 25/100\n",
            "60000/60000 [==============================] - 9s 143us/sample - loss: 0.4236 - acc: 0.8474\n",
            "Epoch 26/100\n",
            "60000/60000 [==============================] - 9s 145us/sample - loss: 0.4073 - acc: 0.8517\n",
            "Epoch 27/100\n",
            "60000/60000 [==============================] - 9s 145us/sample - loss: 0.3956 - acc: 0.8556\n",
            "Epoch 28/100\n",
            "60000/60000 [==============================] - 9s 145us/sample - loss: 0.3822 - acc: 0.8618\n",
            "Epoch 29/100\n",
            "60000/60000 [==============================] - 9s 142us/sample - loss: 0.3700 - acc: 0.8658\n",
            "Epoch 30/100\n",
            "60000/60000 [==============================] - 9s 146us/sample - loss: 0.3573 - acc: 0.8698\n",
            "Epoch 31/100\n",
            "60000/60000 [==============================] - 9s 146us/sample - loss: 0.3458 - acc: 0.8737\n",
            "Epoch 32/100\n",
            "60000/60000 [==============================] - 9s 143us/sample - loss: 0.3339 - acc: 0.8785\n",
            "Epoch 33/100\n",
            "60000/60000 [==============================] - 9s 143us/sample - loss: 0.3217 - acc: 0.8831\n",
            "Epoch 34/100\n",
            "60000/60000 [==============================] - 9s 142us/sample - loss: 0.3099 - acc: 0.8867\n",
            "Epoch 35/100\n",
            "60000/60000 [==============================] - 9s 144us/sample - loss: 0.2984 - acc: 0.8908\n",
            "Epoch 36/100\n",
            "60000/60000 [==============================] - 9s 143us/sample - loss: 0.2877 - acc: 0.8950\n",
            "Epoch 37/100\n",
            "60000/60000 [==============================] - 9s 144us/sample - loss: 0.2764 - acc: 0.8986\n",
            "Epoch 38/100\n",
            "60000/60000 [==============================] - 9s 144us/sample - loss: 0.2636 - acc: 0.9015\n",
            "Epoch 39/100\n",
            "60000/60000 [==============================] - 9s 142us/sample - loss: 0.2569 - acc: 0.9051\n",
            "Epoch 40/100\n",
            "60000/60000 [==============================] - 8s 141us/sample - loss: 0.2463 - acc: 0.9091\n",
            "Epoch 41/100\n",
            "60000/60000 [==============================] - 9s 144us/sample - loss: 0.2352 - acc: 0.9136\n",
            "Epoch 42/100\n",
            "60000/60000 [==============================] - 9s 144us/sample - loss: 0.2281 - acc: 0.9170\n",
            "Epoch 43/100\n",
            "60000/60000 [==============================] - 9s 143us/sample - loss: 0.2196 - acc: 0.9189\n",
            "Epoch 44/100\n",
            "60000/60000 [==============================] - 9s 143us/sample - loss: 0.2108 - acc: 0.9218\n",
            "Epoch 45/100\n",
            "60000/60000 [==============================] - 9s 144us/sample - loss: 0.2053 - acc: 0.9251\n",
            "Epoch 46/100\n",
            "60000/60000 [==============================] - 9s 142us/sample - loss: 0.1977 - acc: 0.9266\n",
            "Epoch 47/100\n",
            "60000/60000 [==============================] - 8s 141us/sample - loss: 0.1888 - acc: 0.9301\n",
            "Epoch 48/100\n",
            "60000/60000 [==============================] - 9s 143us/sample - loss: 0.1807 - acc: 0.9335\n",
            "Epoch 49/100\n",
            "60000/60000 [==============================] - 9s 145us/sample - loss: 0.1755 - acc: 0.9348\n",
            "Epoch 50/100\n",
            "60000/60000 [==============================] - 8s 141us/sample - loss: 0.1700 - acc: 0.9367\n",
            "Epoch 51/100\n",
            "60000/60000 [==============================] - 9s 145us/sample - loss: 0.1659 - acc: 0.9385\n",
            "Epoch 52/100\n",
            "60000/60000 [==============================] - 9s 145us/sample - loss: 0.1609 - acc: 0.9396\n",
            "Epoch 53/100\n",
            "60000/60000 [==============================] - 9s 143us/sample - loss: 0.1557 - acc: 0.9412\n",
            "Epoch 54/100\n",
            "60000/60000 [==============================] - 9s 142us/sample - loss: 0.1528 - acc: 0.9436\n",
            "Epoch 55/100\n",
            "60000/60000 [==============================] - 8s 142us/sample - loss: 0.1512 - acc: 0.9429\n",
            "Epoch 56/100\n",
            "60000/60000 [==============================] - 9s 144us/sample - loss: 0.1495 - acc: 0.9433\n",
            "Epoch 57/100\n",
            "60000/60000 [==============================] - 9s 142us/sample - loss: 0.1517 - acc: 0.9431\n",
            "Epoch 58/100\n",
            "60000/60000 [==============================] - 9s 145us/sample - loss: 0.1477 - acc: 0.9437\n",
            "Epoch 59/100\n",
            "60000/60000 [==============================] - 9s 143us/sample - loss: 0.1496 - acc: 0.9441\n",
            "Epoch 60/100\n",
            "60000/60000 [==============================] - 8s 141us/sample - loss: 0.1537 - acc: 0.9419\n",
            "Epoch 61/100\n",
            "60000/60000 [==============================] - 9s 144us/sample - loss: 0.1594 - acc: 0.9411\n",
            "Epoch 62/100\n",
            "60000/60000 [==============================] - 9s 145us/sample - loss: 0.1651 - acc: 0.9398\n",
            "Epoch 63/100\n",
            "60000/60000 [==============================] - 9s 147us/sample - loss: 0.1727 - acc: 0.9360\n",
            "Epoch 64/100\n",
            "60000/60000 [==============================] - 9s 142us/sample - loss: 0.1835 - acc: 0.9322\n",
            "Epoch 65/100\n",
            "60000/60000 [==============================] - 9s 146us/sample - loss: 0.1930 - acc: 0.9290\n",
            "Epoch 66/100\n",
            "60000/60000 [==============================] - 9s 144us/sample - loss: 0.2060 - acc: 0.9234\n",
            "Epoch 67/100\n",
            "60000/60000 [==============================] - 9s 142us/sample - loss: 0.2248 - acc: 0.9186\n",
            "Epoch 68/100\n",
            "60000/60000 [==============================] - 8s 141us/sample - loss: 0.2406 - acc: 0.9130\n",
            "Epoch 69/100\n",
            "60000/60000 [==============================] - 9s 145us/sample - loss: 0.2589 - acc: 0.9078\n",
            "Epoch 70/100\n",
            "60000/60000 [==============================] - 9s 145us/sample - loss: 0.2775 - acc: 0.9010\n",
            "Epoch 71/100\n",
            "60000/60000 [==============================] - 9s 142us/sample - loss: 0.3060 - acc: 0.8914\n",
            "Epoch 72/100\n",
            "60000/60000 [==============================] - 9s 143us/sample - loss: 0.3284 - acc: 0.8834\n",
            "Epoch 73/100\n",
            "60000/60000 [==============================] - 9s 142us/sample - loss: 0.3518 - acc: 0.8760\n",
            "Epoch 74/100\n",
            "60000/60000 [==============================] - 8s 141us/sample - loss: 0.3868 - acc: 0.8643\n",
            "Epoch 75/100\n",
            "60000/60000 [==============================] - 9s 142us/sample - loss: 0.4205 - acc: 0.8531\n",
            "Epoch 76/100\n",
            "60000/60000 [==============================] - 9s 143us/sample - loss: 0.4549 - acc: 0.8384\n",
            "Epoch 77/100\n",
            "60000/60000 [==============================] - 9s 143us/sample - loss: 0.4597 - acc: 0.8379\n",
            "Epoch 78/100\n",
            "60000/60000 [==============================] - 9s 142us/sample - loss: 0.5015 - acc: 0.8220\n",
            "Epoch 79/100\n",
            "60000/60000 [==============================] - 9s 144us/sample - loss: 0.5064 - acc: 0.8198\n",
            "Epoch 80/100\n",
            "60000/60000 [==============================] - 9s 143us/sample - loss: 0.5236 - acc: 0.8104\n",
            "Epoch 81/100\n",
            "60000/60000 [==============================] - 8s 140us/sample - loss: 0.5388 - acc: 0.8082\n",
            "Epoch 82/100\n",
            "60000/60000 [==============================] - 8s 142us/sample - loss: 0.5745 - acc: 0.7950\n",
            "Epoch 83/100\n",
            "60000/60000 [==============================] - 9s 143us/sample - loss: 0.6335 - acc: 0.7736\n",
            "Epoch 84/100\n",
            "60000/60000 [==============================] - 9s 144us/sample - loss: 0.6356 - acc: 0.7700\n",
            "Epoch 85/100\n",
            "60000/60000 [==============================] - 8s 140us/sample - loss: 0.6977 - acc: 0.7469\n",
            "Epoch 86/100\n",
            "60000/60000 [==============================] - 9s 145us/sample - loss: 0.7368 - acc: 0.7319\n",
            "Epoch 87/100\n",
            "60000/60000 [==============================] - 9s 143us/sample - loss: 0.8118 - acc: 0.7100\n",
            "Epoch 88/100\n",
            "60000/60000 [==============================] - 8s 141us/sample - loss: 0.9953 - acc: 0.6347\n",
            "Epoch 89/100\n",
            "60000/60000 [==============================] - 9s 142us/sample - loss: 0.8986 - acc: 0.6600\n",
            "Epoch 90/100\n",
            "60000/60000 [==============================] - 9s 143us/sample - loss: 0.9802 - acc: 0.6418\n",
            "Epoch 91/100\n",
            "60000/60000 [==============================] - 9s 145us/sample - loss: 1.2295 - acc: 0.5448\n",
            "Epoch 92/100\n",
            "60000/60000 [==============================] - 8s 142us/sample - loss: 2.3079 - acc: 0.0996\n",
            "Epoch 93/100\n",
            "60000/60000 [==============================] - 9s 144us/sample - loss: 2.3081 - acc: 0.0995\n",
            "Epoch 94/100\n",
            "60000/60000 [==============================] - 9s 144us/sample - loss: 2.3087 - acc: 0.0994\n",
            "Epoch 95/100\n",
            "60000/60000 [==============================] - 9s 143us/sample - loss: 2.3092 - acc: 0.1004\n",
            "Epoch 96/100\n",
            "60000/60000 [==============================] - 8s 141us/sample - loss: 2.3101 - acc: 0.1005\n",
            "Epoch 97/100\n",
            "60000/60000 [==============================] - 9s 142us/sample - loss: 2.3108 - acc: 0.1018\n",
            "Epoch 98/100\n",
            "60000/60000 [==============================] - 9s 147us/sample - loss: 2.3118 - acc: 0.1001\n",
            "Epoch 99/100\n",
            "60000/60000 [==============================] - 9s 147us/sample - loss: 2.3132 - acc: 0.1016\n",
            "Epoch 100/100\n",
            "60000/60000 [==============================] - 9s 144us/sample - loss: 2.3139 - acc: 0.0992\n"
          ],
          "name": "stdout"
        }
      ]
    },
    {
      "cell_type": "code",
      "metadata": {
        "id": "EfBDEFzdBzpF",
        "colab_type": "code",
        "outputId": "d3c1ce95-1556-4de8-9897-e6b1be5fe3aa",
        "colab": {
          "base_uri": "https://localhost:8080/",
          "height": 291
        }
      },
      "source": [
        "plt.semilogx(loss_history.history[\"lr\"], loss_history.history[\"loss\"])\n",
        "plt.axis([1e-6, 1e-1, 0, 5])"
      ],
      "execution_count": 0,
      "outputs": [
        {
          "output_type": "execute_result",
          "data": {
            "text/plain": [
              "[1e-06, 0.1, 0, 5]"
            ]
          },
          "metadata": {
            "tags": []
          },
          "execution_count": 14
        },
        {
          "output_type": "display_data",
          "data": {
            "image/png": "[encoded data removed]",
            "text/plain": [
              "<Figure size 432x288 with 1 Axes>"
            ]
          },
          "metadata": {
            "tags": []
          }
        }
      ]
    },
    {
      "cell_type": "markdown",
      "metadata": {
        "colab_type": "text",
        "id": "CWIdjH5esqv5"
      },
      "source": [
        "\n"
      ]
    },
    {
      "cell_type": "code",
      "metadata": {
        "id": "Yu5PGHsatlvJ",
        "colab_type": "code",
        "colab": {}
      },
      "source": [
        "# Model reconstruction\n",
        "inputs = Input(shape=(28,28))\n",
        "\n",
        "x = Reshape((28,28,1))(inputs)\n",
        "\n",
        "x = Conv2D(filters = 32, kernel_size=(3,3), activation = 'relu', strides = (1,1), padding='same')(x)\n",
        "x = Conv2D(filters = 32, kernel_size=(3,3), activation = 'relu', strides = (1,1), padding='same')(x)\n",
        "x = MaxPooling2D(pool_size=(2,2))(x)\n",
        "x = Dropout(rate = .25)(x)\n",
        "\n",
        "x = Conv2D(filters = 64, kernel_size=(3,3), activation = 'relu', strides = (1,1), padding='same')(x)\n",
        "x = Conv2D(filters = 64, kernel_size=(3,3), activation = 'relu', strides = (1,1), padding='same')(x)\n",
        "x = MaxPooling2D(pool_size=(2,2))(x)\n",
        "x = Dropout(rate = .25)(x)\n",
        "\n",
        "x = Flatten()(x)\n",
        "x = Dense(units=512, activation = 'relu')(x)\n",
        "x = Dropout(rate = .5)(x)\n",
        "outputs = Dense(units = 10, activation = 'softmax')(x) #10 for num_classes in dataset"
      ],
      "execution_count": 0,
      "outputs": []
    },
    {
      "cell_type": "code",
      "metadata": {
        "id": "nU42mFsbt4Wf",
        "colab_type": "code",
        "colab": {
          "base_uri": "https://localhost:8080/",
          "height": 555
        },
        "outputId": "640d4330-372b-464e-d771-f6e913de541b"
      },
      "source": [
        "model = Model(inputs = inputs, outputs = outputs)\n",
        "\n",
        "optimizer = Adam(learning_rate= 1e-3) #best learning rate found via lr_scheduler\n",
        "\n",
        "model.compile(loss = 'categorical_crossentropy', optimizer = optimizer, metrics = ['accuracy'])\n",
        "history = model.fit(x_train, y_train, batch_size = 64, validation_split = .1, epochs = 15)"
      ],
      "execution_count": 9,
      "outputs": [
        {
          "output_type": "stream",
          "text": [
            "Train on 54000 samples, validate on 6000 samples\n",
            "Epoch 1/15\n",
            "54000/54000 [==============================] - 6s 109us/sample - loss: 0.2332 - acc: 0.9151 - val_loss: 0.2110 - val_acc: 0.9245\n",
            "Epoch 2/15\n",
            "54000/54000 [==============================] - 6s 107us/sample - loss: 0.2125 - acc: 0.9230 - val_loss: 0.1951 - val_acc: 0.9282\n",
            "Epoch 3/15\n",
            "54000/54000 [==============================] - 6s 105us/sample - loss: 0.1987 - acc: 0.9270 - val_loss: 0.2001 - val_acc: 0.9275\n",
            "Epoch 4/15\n",
            "54000/54000 [==============================] - 6s 104us/sample - loss: 0.1796 - acc: 0.9327 - val_loss: 0.1943 - val_acc: 0.9305\n",
            "Epoch 5/15\n",
            "54000/54000 [==============================] - 6s 112us/sample - loss: 0.1692 - acc: 0.9373 - val_loss: 0.1876 - val_acc: 0.9323\n",
            "Epoch 6/15\n",
            "54000/54000 [==============================] - 6s 117us/sample - loss: 0.1610 - acc: 0.9396 - val_loss: 0.1860 - val_acc: 0.9352\n",
            "Epoch 7/15\n",
            "54000/54000 [==============================] - 6s 119us/sample - loss: 0.1506 - acc: 0.9429 - val_loss: 0.1911 - val_acc: 0.9320\n",
            "Epoch 8/15\n",
            "54000/54000 [==============================] - 6s 116us/sample - loss: 0.1427 - acc: 0.9464 - val_loss: 0.1970 - val_acc: 0.9313\n",
            "Epoch 9/15\n",
            "54000/54000 [==============================] - 6s 107us/sample - loss: 0.1387 - acc: 0.9482 - val_loss: 0.2001 - val_acc: 0.9322\n",
            "Epoch 10/15\n",
            "54000/54000 [==============================] - 6s 106us/sample - loss: 0.1267 - acc: 0.9531 - val_loss: 0.1876 - val_acc: 0.9338\n",
            "Epoch 11/15\n",
            "54000/54000 [==============================] - 6s 105us/sample - loss: 0.1226 - acc: 0.9539 - val_loss: 0.1921 - val_acc: 0.9358\n",
            "Epoch 12/15\n",
            "54000/54000 [==============================] - 6s 106us/sample - loss: 0.1162 - acc: 0.9551 - val_loss: 0.1842 - val_acc: 0.9382\n",
            "Epoch 13/15\n",
            "54000/54000 [==============================] - 6s 107us/sample - loss: 0.1128 - acc: 0.9580 - val_loss: 0.1856 - val_acc: 0.9363\n",
            "Epoch 14/15\n",
            "54000/54000 [==============================] - 6s 111us/sample - loss: 0.1082 - acc: 0.9589 - val_loss: 0.1898 - val_acc: 0.9372\n",
            "Epoch 15/15\n",
            "54000/54000 [==============================] - 6s 113us/sample - loss: 0.1054 - acc: 0.9610 - val_loss: 0.1886 - val_acc: 0.9365\n"
          ],
          "name": "stdout"
        }
      ]
    },
    {
      "cell_type": "code",
      "metadata": {
        "id": "kLfYmt5PE0Ow",
        "colab_type": "code",
        "outputId": "2267b9d6-7667-486d-c3a7-ea797cbd5a18",
        "colab": {
          "base_uri": "https://localhost:8080/",
          "height": 295
        }
      },
      "source": [
        "plt.plot(history.history['loss'], label = 'Training Loss')\n",
        "plt.plot(history.history['val_loss'], label = 'Validation Loss')\n",
        "plt.title('Model loss')\n",
        "plt.ylabel('Loss')\n",
        "plt.xlabel('Epoch')\n",
        "plt.legend(loc = 'best')\n",
        "plt.show()"
      ],
      "execution_count": 10,
      "outputs": [
        {
          "output_type": "display_data",
          "data": {
            "image/png": "[encoded data removed]",
            "text/plain": [
              "<Figure size 432x288 with 1 Axes>"
            ]
          },
          "metadata": {
            "tags": []
          }
        }
      ]
    },
    {
      "cell_type": "code",
      "metadata": {
        "id": "gcrceVRFu6be",
        "colab_type": "code",
        "colab": {
          "base_uri": "https://localhost:8080/",
          "height": 35
        },
        "outputId": "d0d1caf0-39d3-41da-f04d-a0583a1a6c78"
      },
      "source": [
        "# Model testing\n",
        "score = model.evaluate(x_test, y_test, batch_size = 64)"
      ],
      "execution_count": 11,
      "outputs": [
        {
          "output_type": "stream",
          "text": [
            "10000/10000 [==============================] - 1s 67us/sample - loss: 0.2215 - acc: 0.9343\n"
          ],
          "name": "stdout"
        }
      ]
    },
    {
      "cell_type": "code",
      "metadata": {
        "id": "UavkuTgcvA_Y",
        "colab_type": "code",
        "colab": {}
      },
      "source": [
        ""
      ],
      "execution_count": 0,
      "outputs": []
    }
  ]
}